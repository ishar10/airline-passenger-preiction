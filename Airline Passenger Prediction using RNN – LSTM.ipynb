{
 "cells": [
  {
   "cell_type": "code",
   "execution_count": 1,
   "metadata": {},
   "outputs": [],
   "source": [
    "import numpy as np\n",
    "import matplotlib.pyplot as plt\n",
    "import pandas as pd\n",
    "from tensorflow.keras.models import Sequential\n",
    "from tensorflow.keras.layers import Dense, LSTM\n",
    "from sklearn.preprocessing import MinMaxScaler"
   ]
  },
  {
   "cell_type": "code",
   "execution_count": 2,
   "metadata": {},
   "outputs": [
    {
     "data": {
      "text/plain": [
       "array([[112],\n",
       "       [118],\n",
       "       [132],\n",
       "       [129],\n",
       "       [121],\n",
       "       [135],\n",
       "       [148],\n",
       "       [148],\n",
       "       [136],\n",
       "       [119]], dtype=int64)"
      ]
     },
     "execution_count": 2,
     "metadata": {},
     "output_type": "execute_result"
    }
   ],
   "source": [
    "dataset = pd.read_csv('AirPassengers.csv')\n",
    "dataset = dataset['#Passengers']\n",
    "dataset = np.array(dataset).reshape(-1,1)\n",
    "dataset[:10]"
   ]
  },
  {
   "cell_type": "code",
   "execution_count": 3,
   "metadata": {},
   "outputs": [
    {
     "data": {
      "text/plain": [
       "[<matplotlib.lines.Line2D at 0x1fb7827ea00>]"
      ]
     },
     "execution_count": 3,
     "metadata": {},
     "output_type": "execute_result"
    },
    {
     "data": {
      "image/png": "[encoded data removed]",
      "text/plain": [
       "<Figure size 432x288 with 1 Axes>"
      ]
     },
     "metadata": {
      "needs_background": "light"
     },
     "output_type": "display_data"
    }
   ],
   "source": [
    "plt.plot(dataset)"
   ]
  },
  {
   "cell_type": "code",
   "execution_count": 4,
   "metadata": {},
   "outputs": [
    {
     "data": {
      "text/plain": [
       "(0.0, 1.0)"
      ]
     },
     "execution_count": 4,
     "metadata": {},
     "output_type": "execute_result"
    }
   ],
   "source": [
    "scaler = MinMaxScaler()\n",
    "dataset = scaler.fit_transform(dataset)\n",
    "dataset.min(),dataset.max()"
   ]
  },
  {
   "cell_type": "markdown",
   "metadata": {},
   "source": [
    "We are going to use the data of first 100 months as training data and the last 44 months as testing data."
   ]
  },
  {
   "cell_type": "code",
   "execution_count": 5,
   "metadata": {},
   "outputs": [
    {
     "data": {
      "text/plain": [
       "(100, 1)"
      ]
     },
     "execution_count": 5,
     "metadata": {},
     "output_type": "execute_result"
    }
   ],
   "source": [
    "train_size = 100\n",
    "test_size = 44\n",
    "train = dataset[0:train_size, :]\n",
    "train.shape"
   ]
  },
  {
   "cell_type": "code",
   "execution_count": 6,
   "metadata": {},
   "outputs": [
    {
     "data": {
      "text/plain": [
       "(44, 1)"
      ]
     },
     "execution_count": 6,
     "metadata": {},
     "output_type": "execute_result"
    }
   ],
   "source": [
    "test = dataset[train_size:144, :]\n",
    "test.shape"
   ]
  },
  {
   "cell_type": "markdown",
   "metadata": {},
   "source": [
    "Create training and testing dataset\n",
    "We are going to predict the (i)th value in the dataset on the basis of (i-1)th value. That means we are going to look back by 1 to predict the next value. Hence we are creating a function get_data() to create dataX and dataY for the training as well as the testing data."
   ]
  },
  {
   "cell_type": "code",
   "execution_count": 7,
   "metadata": {},
   "outputs": [
    {
     "data": {
      "text/plain": [
       "array([[0.01544402],\n",
       "       [0.02702703],\n",
       "       [0.05405405],\n",
       "       [0.04826255],\n",
       "       [0.03281853],\n",
       "       [0.05984556],\n",
       "       [0.08494208],\n",
       "       [0.08494208],\n",
       "       [0.06177606],\n",
       "       [0.02895753]])"
      ]
     },
     "execution_count": 7,
     "metadata": {},
     "output_type": "execute_result"
    }
   ],
   "source": [
    "def get_data(dataset, look_back):\n",
    "    dataX, dataY = [], []\n",
    "    for i in range(len(dataset)-look_back-1):\n",
    "        a = dataset[i:(i+look_back), 0]\n",
    "        dataX.append(a)\n",
    "        dataY.append(dataset[i+look_back, 0])\n",
    "    return np.array(dataX), np.array(dataY)\n",
    "\n",
    "look_back = 1\n",
    "X_train, y_train = get_data(train, look_back)\n",
    "X_train[:10]"
   ]
  },
  {
   "cell_type": "code",
   "execution_count": 8,
   "metadata": {},
   "outputs": [
    {
     "data": {
      "text/plain": [
       "array([0.02702703, 0.05405405, 0.04826255, 0.03281853, 0.05984556,\n",
       "       0.08494208, 0.08494208, 0.06177606, 0.02895753, 0.        ])"
      ]
     },
     "execution_count": 8,
     "metadata": {},
     "output_type": "execute_result"
    }
   ],
   "source": [
    "y_train[:10]"
   ]
  },
  {
   "cell_type": "code",
   "execution_count": 9,
   "metadata": {},
   "outputs": [],
   "source": [
    "X_test, y_test = get_data(test, look_back)"
   ]
  },
  {
   "cell_type": "code",
   "execution_count": 10,
   "metadata": {},
   "outputs": [],
   "source": [
    "X_train = X_train.reshape(X_train.shape[0], X_train.shape[1], 1)\n",
    "X_test = X_test.reshape(X_test.shape[0], X_test.shape[1], 1)"
   ]
  },
  {
   "cell_type": "code",
   "execution_count": 11,
   "metadata": {},
   "outputs": [
    {
     "data": {
      "text/plain": [
       "(98, 1, 1)"
      ]
     },
     "execution_count": 11,
     "metadata": {},
     "output_type": "execute_result"
    }
   ],
   "source": [
    "X_train.shape"
   ]
  },
  {
   "cell_type": "code",
   "execution_count": 12,
   "metadata": {},
   "outputs": [],
   "source": [
    "model = Sequential()\n",
    "model.add(LSTM(5, input_shape = (1, look_back)))\n",
    "model.add(Dense(1))\n",
    "model.compile(loss = 'mean_squared_error', optimizer = 'adam')"
   ]
  },
  {
   "cell_type": "code",
   "execution_count": 13,
   "metadata": {},
   "outputs": [
    {
     "name": "stdout",
     "output_type": "stream",
     "text": [
      "Model: \"sequential\"\n",
      "_________________________________________________________________\n",
      "Layer (type)                 Output Shape              Param #   \n",
      "=================================================================\n",
      "lstm (LSTM)                  (None, 5)                 140       \n",
      "_________________________________________________________________\n",
      "dense (Dense)                (None, 1)                 6         \n",
      "=================================================================\n",
      "Total params: 146\n",
      "Trainable params: 146\n",
      "Non-trainable params: 0\n",
      "_________________________________________________________________\n"
     ]
    }
   ],
   "source": [
    "model.summary()"
   ]
  },
  {
   "cell_type": "code",
   "execution_count": 14,
   "metadata": {},
   "outputs": [
    {
     "name": "stdout",
     "output_type": "stream",
     "text": [
      "Epoch 1/50\n",
      "98/98 [==============================] - 0s 849us/step - loss: 0.0421\n",
      "Epoch 2/50\n",
      "98/98 [==============================] - 0s 808us/step - loss: 0.0202\n",
      "Epoch 3/50\n",
      "98/98 [==============================] - 0s 942us/step - loss: 0.0143\n",
      "Epoch 4/50\n",
      "98/98 [==============================] - 0s 762us/step - loss: 0.0127\n",
      "Epoch 5/50\n",
      "98/98 [==============================] - 0s 806us/step - loss: 0.0117\n",
      "Epoch 6/50\n",
      "98/98 [==============================] - 0s 828us/step - loss: 0.0109\n",
      "Epoch 7/50\n",
      "98/98 [==============================] - 0s 811us/step - loss: 0.0096\n",
      "Epoch 8/50\n",
      "98/98 [==============================] - 0s 773us/step - loss: 0.0086\n",
      "Epoch 9/50\n",
      "98/98 [==============================] - 0s 802us/step - loss: 0.0077\n",
      "Epoch 10/50\n",
      "98/98 [==============================] - 0s 843us/step - loss: 0.0066\n",
      "Epoch 11/50\n",
      "98/98 [==============================] - 0s 797us/step - loss: 0.0059\n",
      "Epoch 12/50\n",
      "98/98 [==============================] - 0s 793us/step - loss: 0.0050\n",
      "Epoch 13/50\n",
      "98/98 [==============================] - 0s 793us/step - loss: 0.0043\n",
      "Epoch 14/50\n",
      "98/98 [==============================] - 0s 803us/step - loss: 0.0037\n",
      "Epoch 15/50\n",
      "98/98 [==============================] - 0s 803us/step - loss: 0.0032\n",
      "Epoch 16/50\n",
      "98/98 [==============================] - 0s 803us/step - loss: 0.0028\n",
      "Epoch 17/50\n",
      "98/98 [==============================] - 0s 777us/step - loss: 0.0026\n",
      "Epoch 18/50\n",
      "98/98 [==============================] - 0s 814us/step - loss: 0.0024\n",
      "Epoch 19/50\n",
      "98/98 [==============================] - 0s 793us/step - loss: 0.0023\n",
      "Epoch 20/50\n",
      "98/98 [==============================] - 0s 824us/step - loss: 0.0022\n",
      "Epoch 21/50\n",
      "98/98 [==============================] - 0s 854us/step - loss: 0.0022\n",
      "Epoch 22/50\n",
      "98/98 [==============================] - 0s 861us/step - loss: 0.0021\n",
      "Epoch 23/50\n",
      "98/98 [==============================] - 0s 865us/step - loss: 0.0022\n",
      "Epoch 24/50\n",
      "98/98 [==============================] - 0s 805us/step - loss: 0.0021\n",
      "Epoch 25/50\n",
      "98/98 [==============================] - 0s 976us/step - loss: 0.0021\n",
      "Epoch 26/50\n",
      "98/98 [==============================] - 0s 1ms/step - loss: 0.0021\n",
      "Epoch 27/50\n",
      "98/98 [==============================] - 0s 1ms/step - loss: 0.0021\n",
      "Epoch 28/50\n",
      "98/98 [==============================] - 0s 986us/step - loss: 0.0021\n",
      "Epoch 29/50\n",
      "98/98 [==============================] - 0s 995us/step - loss: 0.0021\n",
      "Epoch 30/50\n",
      "98/98 [==============================] - 0s 1ms/step - loss: 0.0021\n",
      "Epoch 31/50\n",
      "98/98 [==============================] - 0s 1ms/step - loss: 0.0021\n",
      "Epoch 32/50\n",
      "98/98 [==============================] - 0s 1ms/step - loss: 0.0022\n",
      "Epoch 33/50\n",
      "98/98 [==============================] - 0s 956us/step - loss: 0.0022\n",
      "Epoch 34/50\n",
      "98/98 [==============================] - 0s 905us/step - loss: 0.0021\n",
      "Epoch 35/50\n",
      "98/98 [==============================] - 0s 892us/step - loss: 0.0021\n",
      "Epoch 36/50\n",
      "98/98 [==============================] - 0s 864us/step - loss: 0.0021\n",
      "Epoch 37/50\n",
      "98/98 [==============================] - 0s 901us/step - loss: 0.0021\n",
      "Epoch 38/50\n",
      "98/98 [==============================] - 0s 1ms/step - loss: 0.0021\n",
      "Epoch 39/50\n",
      "98/98 [==============================] - 0s 964us/step - loss: 0.0021\n",
      "Epoch 40/50\n",
      "98/98 [==============================] - 0s 943us/step - loss: 0.0022\n",
      "Epoch 41/50\n",
      "98/98 [==============================] - 0s 931us/step - loss: 0.0021\n",
      "Epoch 42/50\n",
      "98/98 [==============================] - 0s 946us/step - loss: 0.0021\n",
      "Epoch 43/50\n",
      "98/98 [==============================] - 0s 1ms/step - loss: 0.0021\n",
      "Epoch 44/50\n",
      "98/98 [==============================] - 0s 1ms/step - loss: 0.0021\n",
      "Epoch 45/50\n",
      "98/98 [==============================] - 0s 895us/step - loss: 0.0021\n",
      "Epoch 46/50\n",
      "98/98 [==============================] - 0s 951us/step - loss: 0.0021\n",
      "Epoch 47/50\n",
      "98/98 [==============================] - 0s 950us/step - loss: 0.0021\n",
      "Epoch 48/50\n",
      "98/98 [==============================] - 0s 1ms/step - loss: 0.0021\n",
      "Epoch 49/50\n",
      "98/98 [==============================] - 0s 984us/step - loss: 0.0022\n",
      "Epoch 50/50\n",
      "98/98 [==============================] - 0s 915us/step - loss: 0.0021\n"
     ]
    },
    {
     "data": {
      "text/plain": [
       "<tensorflow.python.keras.callbacks.History at 0x1fb798d5a60>"
      ]
     },
     "execution_count": 14,
     "metadata": {},
     "output_type": "execute_result"
    }
   ],
   "source": [
    "model.fit(X_train, y_train, epochs=50, batch_size=1)"
   ]
  },
  {
   "cell_type": "code",
   "execution_count": 15,
   "metadata": {},
   "outputs": [],
   "source": [
    "y_pred = model.predict(X_test)"
   ]
  },
  {
   "cell_type": "code",
   "execution_count": 16,
   "metadata": {},
   "outputs": [
    {
     "data": {
      "text/plain": [
       "array([0.0019305])"
      ]
     },
     "execution_count": 16,
     "metadata": {},
     "output_type": "execute_result"
    }
   ],
   "source": [
    "scaler.scale_"
   ]
  },
  {
   "cell_type": "code",
   "execution_count": 17,
   "metadata": {},
   "outputs": [],
   "source": [
    "y_pred = scaler.inverse_transform(y_pred)\n",
    "y_test = np.array(y_test)\n",
    "y_test = y_test.reshape(-1, 1)\n",
    "y_test = scaler.inverse_transform(y_test)"
   ]
  },
  {
   "cell_type": "code",
   "execution_count": 18,
   "metadata": {},
   "outputs": [
    {
     "data": {
      "image/png": "[encoded data removed]",
      "text/plain": [
       "<Figure size 1008x360 with 1 Axes>"
      ]
     },
     "metadata": {
      "needs_background": "light"
     },
     "output_type": "display_data"
    }
   ],
   "source": [
    "# plot baseline and predictions\n",
    "plt.figure(figsize=(14,5))\n",
    "plt.plot(y_test, label = 'Real number of passengers')\n",
    "plt.plot(y_pred, label = 'Predicted number of passengers')\n",
    "plt.ylabel('# passengers')\n",
    "plt.legend()\n",
    "plt.show()\n"
   ]
  },
  {
   "cell_type": "markdown",
   "metadata": {},
   "source": [
    "As we can see that the actual results and the predicted results are following the same trend. Our model is predicting the number of passengers with a good accuracy."
   ]
  },
  {
   "cell_type": "code",
   "execution_count": null,
   "metadata": {},
   "outputs": [],
   "source": []
  }
 ],
 "metadata": {
  "kernelspec": {
   "display_name": "Python 3",
   "language": "python",
   "name": "python3"
  },
  "language_info": {
   "codemirror_mode": {
    "name": "ipython",
    "version": 3
   },
   "file_extension": ".py",
   "mimetype": "text/x-python",
   "name": "python",
   "nbconvert_exporter": "python",
   "pygments_lexer": "ipython3",
   "version": "3.8.3"
  }
 },
 "nbformat": 4,
 "nbformat_minor": 4
}
